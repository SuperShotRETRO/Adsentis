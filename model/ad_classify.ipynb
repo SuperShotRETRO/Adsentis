{
  "cells": [
    {
      "cell_type": "markdown",
      "metadata": {},
      "source": [
        "# Image Classifiaction\n",
        "\n",
        "1. **Data Preprocessing and Augmentation:**\n",
        "   - Data preprocessing is a crucial step in machine learning. In this case, images are preprocessed to make them suitable for training a deep learning model.\n",
        "   - Rescaling is used to normalize pixel values, typically scaling them to a range between 0 and 1.\n",
        "   - Augmentation techniques like rotation, shifting, shearing, zooming, and flipping are applied to artificially increase the diversity of the training dataset. This helps the model generalize better to real-world data.\n",
        "\n",
        "2. **Loading and Preprocessing Training Images:**\n",
        "   - To train a deep learning model, you need a dataset of labeled images. The `ImageDataGenerator` is used to load and preprocess these images.\n",
        "   - The directory structure should be organized with subdirectories for each class of images.\n",
        "   - `flow_from_directory` method loads images from the specified directory and performs preprocessing.\n",
        "   - `target_size` ensures all images are resized to a consistent size.\n",
        "   - `batch_size` determines how many images are processed in each training iteration.\n",
        "   - `class_mode` specifies the type of classification (e.g., binary or categorical).\n",
        "   - `shuffle` ensures that the order of images is randomized during training to prevent the model from learning the order of the dataset.\n",
        "\n",
        "3. **Creating MobileNetV2 Base Model:**\n",
        "   - MobileNetV2 is a pre-trained deep learning model that is used as a feature extractor. It's a type of convolutional neural network (CNN).\n",
        "   - The base model is used to capture the high-level features of the input images. It has been trained on a large dataset (ImageNet) and can recognize a wide range of features.\n",
        "   - `include_top=False` indicates that we're not using the final classification layer of MobileNetV2. Instead, we'll add our own custom classification layers.\n",
        "   - `weights='imagenet'` specifies that we want to use the pre-trained weights from the ImageNet dataset.\n",
        "\n",
        "4. **Adding Custom Classification Layers:**\n",
        "   - After using MobileNetV2 as a feature extractor, we add our own custom layers for classification.\n",
        "   - Global average pooling is used to reduce the spatial dimensions of the feature maps. This simplifies the model and reduces the number of parameters.\n",
        "   - Dense layers with ReLU activation are added to learn complex patterns in the feature maps.\n",
        "   - The final dense layer has as many units as there are classes in the classification task and uses a softmax activation to make class predictions.\n",
        "\n",
        "5. **Creating the Final Classification Model:**\n",
        "   - The final model is created by combining the base MobileNetV2 model with the custom classification layers.\n",
        "   - This model can take images as input and output class predictions.\n",
        "\n",
        "6. **Compiling the Model:**\n",
        "   - To train the model, it needs to be compiled with an optimizer, a loss function, and evaluation metrics.\n",
        "   - 'Adam' is a popular optimizer, and 'categorical_crossentropy' is a common loss function for multi-class classification.\n",
        "   - The 'accuracy' metric is used to evaluate how well the model is performing during training.\n",
        "\n",
        "7. **ModelCheckpoint Callback:**\n",
        "   - The `ModelCheckpoint` callback is used to save the best model during training.\n",
        "   - It monitors a specific metric, in this case, 'accuracy,' and saves the model when this metric is maximized.\n",
        "\n",
        "8. **Training the Model:**\n",
        "   - The model is trained using the training dataset and the specified configuration (e.g., number of epochs).\n",
        "   - During training, the model's weights are updated to minimize the loss function, and its performance is evaluated using the validation data.\n",
        "\n",
        "9. **Printing Training Results:**\n",
        "   - After training is complete, you can print a message to confirm the training settings used (e.g., batch size and number of epochs).\n",
        "\n",
        "### References\n",
        "[https://towardsdatascience.com/review-mobilenetv2-light-weight-model-image-classification-8febb490e61c](https://towardsdatascience.com/review-mobilenetv2-light-weight-model-image-classification-8febb490e61c) <br>\n",
        "\n",
        "[https://blog.roboflow.com/how-to-train-mobilenetv2-on-a-custom-dataset/](https://blog.roboflow.com/how-to-train-mobilenetv2-on-a-custom-dataset/) <bt>\n",
        "\n",
        "[https://github.com/EhabR98/Transfer-Learning-with-MobileNetV2/](https://github.com/EhabR98/Transfer-Learning-with-MobileNetV2/) <br>\n",
        "\n",
        "[https://paperswithcode.com/method/mobilenetv2](https://paperswithcode.com/method/mobilenetv2) <br>\n",
        "\n",
        "[https://www.youtube.com/watch?v=jztwpsIzEGc](https://www.youtube.com/watch?v=jztwpsIzEGc) <br>\n",
        "\n",
        "[https://www.kaggle.com/code/mgiraygokirmak/mobilenetv2](https://www.kaggle.com/code/mgiraygokirmak/mobilenetv2) <br>\n"
      ]
    },
    {
      "cell_type": "markdown",
      "metadata": {},
      "source": [
        "## Data Store Initiate"
      ]
    },
    {
      "cell_type": "code",
      "execution_count": 9,
      "metadata": {},
      "outputs": [],
      "source": [
        "import os\n",
        "import matplotlib as plt\n",
        "from tensorflow.keras.applications import MobileNetV2\n",
        "from tensorflow.keras.layers import Dense, GlobalAveragePooling2D\n",
        "from tensorflow.keras.models import Model\n",
        "from tensorflow.keras.preprocessing.image import ImageDataGenerator\n",
        "from tensorflow.keras.callbacks import ModelCheckpoint\n",
        "\n",
        "# ? Data directory\n",
        "data_dir = '../data/dataset/actual/'\n",
        "image_size = (224, 224)\n",
        "custom_class_labels = os.listdir(data_dir)\n",
        "\n",
        "\n",
        "# ? Establish path for training data\n",
        "train_dir = os.path.join(data_dir, 'train')\n",
        "\n",
        "# ? Creates directory if it doesn't exist\n",
        "os.makedirs(train_dir, exist_ok=True)\n"
      ]
    },
    {
      "cell_type": "markdown",
      "metadata": {},
      "source": [
        "# Data Processing"
      ]
    },
    {
      "cell_type": "code",
      "execution_count": 12,
      "metadata": {},
      "outputs": [
        {
          "name": "stdout",
          "output_type": "stream",
          "text": [
            "Found 708 images belonging to 16 classes.\n",
            "Epoch 1/5\n",
            "23/23 [==============================] - ETA: 0s - loss: 2.8348 - accuracy: 0.1186"
          ]
        },
        {
          "name": "stderr",
          "output_type": "stream",
          "text": [
            "c:\\Users\\athar\\AppData\\Local\\Programs\\Python\\Python310\\lib\\site-packages\\keras\\src\\engine\\training.py:3000: UserWarning: You are saving your model as an HDF5 file via `model.save()`. This file format is considered legacy. We recommend using instead the native Keras format, e.g. `model.save('my_model.keras')`.\n",
            "  saving_api.save_model(\n"
          ]
        },
        {
          "name": "stdout",
          "output_type": "stream",
          "text": [
            "23/23 [==============================] - 107s 4s/step - loss: 2.8348 - accuracy: 0.1186\n",
            "Epoch 2/5\n",
            "23/23 [==============================] - 93s 4s/step - loss: 2.5264 - accuracy: 0.2020\n",
            "Epoch 3/5\n",
            "23/23 [==============================] - 93s 4s/step - loss: 2.3249 - accuracy: 0.2754\n",
            "Epoch 4/5\n",
            "23/23 [==============================] - 95s 4s/step - loss: 2.1932 - accuracy: 0.3093\n",
            "Epoch 5/5\n",
            "23/23 [==============================] - 93s 4s/step - loss: 2.0914 - accuracy: 0.3277\n",
            "Best Batch Size: 32\n",
            "Best Number of Epochs: 5\n"
          ]
        }
      ],
      "source": [
        "import os\n",
        "import matplotlib.pyplot as plt\n",
        "import tensorflow as tf\n",
        "from tensorflow.keras.applications import MobileNetV2\n",
        "from tensorflow.keras.layers import Dense, GlobalAveragePooling2D\n",
        "from tensorflow.keras.models import Model\n",
        "from tensorflow.keras.preprocessing.image import ImageDataGenerator\n",
        "from tensorflow.keras.callbacks import ModelCheckpoint\n",
        "\n",
        "# ? Program constants\n",
        "data_dir = '../data/dataset/actual/train'\n",
        "image_size = (224, 224)\n",
        "custom_class_labels = os.listdir(data_dir)\n",
        "\n",
        "# ? Batch Size & Epoch\n",
        "batch_sizes = [32]     # ? Batch size customization\n",
        "epochs_list = [5]       # ? Epoch size customization\n",
        "\n",
        "# ? Result variables\n",
        "best_accuracy = 0.0  \n",
        "best_batch_size = 0\n",
        "best_epochs = 0\n",
        "\n",
        "for best_batch_size in batch_sizes:\n",
        "    for best_epochs in epochs_list:\n",
        "        # ? Process the image\n",
        "        datagen = ImageDataGenerator(\n",
        "            rescale=1.0 / 255,\n",
        "            rotation_range=20,\n",
        "            width_shift_range=0.2,\n",
        "            height_shift_range=0.2,\n",
        "            shear_range=0.2,\n",
        "            zoom_range=0.2,\n",
        "            horizontal_flip=True,\n",
        "            fill_mode='nearest'\n",
        "        )\n",
        "\n",
        "        # ? Use the proccessed image for training\n",
        "        train_data = datagen.flow_from_directory(\n",
        "            train_dir,\n",
        "            target_size=image_size,\n",
        "            batch_size=best_batch_size,\n",
        "            class_mode='categorical',\n",
        "            classes=custom_class_labels,\n",
        "            shuffle=True\n",
        "        )\n",
        "\n",
        "        # ? Create MobileNetV2 model\n",
        "        base_model = MobileNetV2(input_shape=(image_size[0], image_size[1], 3), include_top=False, weights='imagenet')\n",
        "\n",
        "        # ? Adds a custom classification layers on the base model\n",
        "        x = GlobalAveragePooling2D()(base_model.output)\n",
        "        x = Dense(1024, activation='relu')(x)\n",
        "        predictions = Dense(len(custom_class_labels), activation='softmax')(x)\n",
        "\n",
        "        # ? Final model\n",
        "        model = Model(inputs=base_model.input, outputs=predictions)\n",
        "\n",
        "        # ? Compile the model\n",
        "        model.compile(optimizer='adam', loss='categorical_crossentropy', metrics=['accuracy'])\n",
        "\n",
        "        # ? Creates a checkpoint to the best model based on training accuracy\n",
        "        model_checkpoint = ModelCheckpoint(f'best_model_{best_batch_size}bs_{best_epochs}ep.h5', save_best_only=True, monitor='accuracy', mode='max')\n",
        "\n",
        "        # ? Train the model \n",
        "        history = model.fit(train_data, epochs=best_epochs, callbacks=[model_checkpoint])\n",
        "\n",
        "        # ? Keep track of the best model\n",
        "        if history.history['accuracy'][-1] > best_accuracy:\n",
        "            best_accuracy = history.history['accuracy'][-1]\n",
        "            best_batch_size = best_batch_size\n",
        "            best_epochs = best_epochs\n",
        "\n",
        "# ? Print the Result\n",
        "print(f\"Best Batch Size: {best_batch_size}\")\n",
        "print(f\"Best Number of Epochs: {best_epochs}\")\n"
      ]
    },
    {
      "cell_type": "markdown",
      "metadata": {},
      "source": [
        "# Overall Best Model"
      ]
    },
    {
      "cell_type": "code",
      "execution_count": 13,
      "metadata": {},
      "outputs": [
        {
          "name": "stdout",
          "output_type": "stream",
          "text": [
            "Best Model: Batch Size - 32, Epochs - 5, Acc - 0.32768362760543823\n"
          ]
        }
      ],
      "source": [
        "# ? Print the result\n",
        "print(f\"Best Model: Batch Size - {best_batch_size}, Epochs - {best_epochs}, Acc - {best_accuracy}\")"
      ]
    },
    {
      "cell_type": "markdown",
      "metadata": {},
      "source": [
        "# Train Best Model"
      ]
    },
    {
      "cell_type": "code",
      "execution_count": 14,
      "metadata": {},
      "outputs": [
        {
          "name": "stdout",
          "output_type": "stream",
          "text": [
            "Found 708 images belonging to 16 classes.\n",
            "Epoch 1/5\n",
            "23/23 [==============================] - 108s 4s/step - loss: 2.8409 - accuracy: 0.0975\n",
            "Epoch 2/5\n",
            "23/23 [==============================] - 91s 4s/step - loss: 2.5400 - accuracy: 0.1992\n",
            "Epoch 3/5\n",
            "23/23 [==============================] - 90s 4s/step - loss: 2.3594 - accuracy: 0.2486\n",
            "Epoch 4/5\n",
            "23/23 [==============================] - 97s 4s/step - loss: 2.2535 - accuracy: 0.2994\n",
            "Epoch 5/5\n",
            "23/23 [==============================] - 93s 4s/step - loss: 2.1937 - accuracy: 0.2966\n",
            "Training completed with 32 batch size and 5 epochs.\n"
          ]
        }
      ],
      "source": [
        "# ? Process the image\n",
        "datagen = ImageDataGenerator(\n",
        "    rescale=1.0 / 255,\n",
        "    rotation_range=20,\n",
        "    width_shift_range=0.2,\n",
        "    height_shift_range=0.2,\n",
        "    shear_range=0.2,\n",
        "    zoom_range=0.2,\n",
        "    horizontal_flip=True,\n",
        "    fill_mode='nearest'\n",
        ")\n",
        "\n",
        "# ? Use the proccessed image for training\n",
        "train_data = datagen.flow_from_directory(\n",
        "    train_dir,\n",
        "    target_size=image_size,\n",
        "    batch_size=best_batch_size,\n",
        "    class_mode='categorical',\n",
        "    classes=custom_class_labels,\n",
        "    shuffle=True\n",
        ")\n",
        "\n",
        "# ? Create MobileNetV2 model\n",
        "base_model = MobileNetV2(input_shape=(image_size[0], image_size[1], 3), include_top=False, weights='imagenet')\n",
        "\n",
        "# ? Adds a custom classification layers on the base model\n",
        "x = GlobalAveragePooling2D()(base_model.output)\n",
        "x = Dense(1024, activation='relu')(x)\n",
        "predictions = Dense(len(custom_class_labels), activation='softmax')(x)\n",
        "\n",
        "# ? Create the final classification model\n",
        "best_model = Model(inputs=base_model.input, outputs=predictions)\n",
        "\n",
        "# ? Compile the best model\n",
        "best_model.compile(optimizer='adam', loss='categorical_crossentropy', metrics=['accuracy'])\n",
        "\n",
        "# ? Train the best model\n",
        "history = best_model.fit(train_data, epochs=best_epochs)\n",
        "\n",
        "# ? Print the training results\n",
        "print(f\"Training completed with {best_batch_size} batch size and {best_epochs} epochs.\")"
      ]
    },
    {
      "cell_type": "markdown",
      "metadata": {},
      "source": [
        "# Summary of Best Model"
      ]
    },
    {
      "cell_type": "code",
      "execution_count": 15,
      "metadata": {},
      "outputs": [
        {
          "data": {
            "image/png": "[encoded data removed]",
            "text/plain": [
              "<Figure size 864x432 with 2 Axes>"
            ]
          },
          "metadata": {
            "needs_background": "light"
          },
          "output_type": "display_data"
        }
      ],
      "source": [
        "# ? Plot a graph for training accuracy and loss\n",
        "plt.figure(figsize=(12, 6))\n",
        "plt.subplot(1, 2, 1)\n",
        "plt.plot(history.history['accuracy'], label='Training Accuracy')\n",
        "plt.xlabel('Epoch')\n",
        "plt.ylabel('Accuracy')\n",
        "plt.legend()\n",
        "\n",
        "plt.subplot(1, 2, 2)\n",
        "plt.plot(history.history['loss'], label='Training Loss')\n",
        "plt.xlabel('Epoch')\n",
        "plt.ylabel('Loss')\n",
        "plt.legend()\n",
        "\n",
        "plt.tight_layout()\n",
        "plt.show()\n"
      ]
    },
    {
      "cell_type": "markdown",
      "metadata": {},
      "source": [
        "# Save Model"
      ]
    },
    {
      "cell_type": "code",
      "execution_count": 16,
      "metadata": {},
      "outputs": [],
      "source": [
        "\n",
        "# ? Model name template\n",
        "model_name = \"custom_sentiment_model\"\n",
        "\n",
        "# ? Save the model with the help of model name template\n",
        "model.save(f'../data/model/Ads_Senti_{best_batch_size}bs_{best_epochs}ep.keras')\n"
      ]
    },
    {
      "cell_type": "markdown",
      "metadata": {},
      "source": [
        "# Testing"
      ]
    },
    {
      "cell_type": "code",
      "execution_count": 33,
      "metadata": {},
      "outputs": [],
      "source": [
        "from tensorflow.keras.models import load_model\n",
        "\n",
        "# ? Load the saved model\n",
        "model = load_model('../data/model/Ads_Senti_128bs_35ep.keras')\n"
      ]
    },
    {
      "cell_type": "code",
      "execution_count": 34,
      "metadata": {},
      "outputs": [
        {
          "name": "stdout",
          "output_type": "stream",
          "text": [
            "1/1 [==============================] - 3s 3s/step\n",
            "prediciton convo matrix [[7.4388504e-07 6.7024789e-06 9.5209175e-01 1.8992198e-14 8.1367768e-24\n",
            "  4.7900826e-02]]\n",
            "Predicted class label: alarmed\n"
          ]
        }
      ],
      "source": [
        "from tensorflow.keras.preprocessing import image\n",
        "import numpy as np\n",
        "from tensorflow.keras.models import load_model\n",
        "\n",
        "data_dir = '../data/dataset/actual/train'\n",
        "\n",
        "# ? Define the label with which you want to classify\n",
        "custom_class_labels = os.listdir(data_dir)\n",
        "\n",
        "# ? Load and process the image\n",
        "img_path = '../data/dataset/sample/validation/not effective/image_35.jpg'\n",
        "img = image.load_img(img_path, target_size=(224, 224))  # Adjust target size as needed\n",
        "img_array = image.img_to_array(img)\n",
        "img_array = np.expand_dims(img_array, axis=0)\n",
        "img_array /= 255.0  # Normalize the image\n",
        "\n",
        "# ? Make prediction using the model\n",
        "predictions = model.predict(img_array)\n",
        "\n",
        "# ? Get the predicted class label\n",
        "predicted_class_index = np.argmax(predictions)\n",
        "predicted_class_label = custom_class_labels[predicted_class_index]\n",
        "\n",
        "print(f\"prediciton convo matrix {predictions}\")\n",
        "print(f\"Predicted class label: {predicted_class_label}\")\n"
      ]
    }
  ],
  "metadata": {
    "kernelspec": {
      "display_name": "Python 3",
      "language": "python",
      "name": "python3"
    },
    "language_info": {
      "codemirror_mode": {
        "name": "ipython",
        "version": 3
      },
      "file_extension": ".py",
      "mimetype": "text/x-python",
      "name": "python",
      "nbconvert_exporter": "python",
      "pygments_lexer": "ipython3",
      "version": "3.11.4"
    }
  },
  "nbformat": 4,
  "nbformat_minor": 2
}
