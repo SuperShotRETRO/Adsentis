{
 "cells": [
  {
   "cell_type": "markdown",
   "metadata": {},
   "source": [
    "# 1. Gather Data\n",
    "#### Convert the Imgs Text to actual text for pre-processing\n",
    "\n",
    "\n",
    "Pytesseract docs: [link](https://pytesseract.readthedocs.io/en/latest/) <br>\n",
    "Pytesseract PSM [link](https://pyimagesearch.com/2021/11/15/tesseract-page-segmentation-modes-psms-explained-how-to-improve-your-ocr-accuracy/) <br>\n",
    "Pillow docs: [link](https://pillow.readthedocs.io/en/stable/)\n"
   ]
  },
  {
   "cell_type": "code",
   "execution_count": 2,
   "metadata": {},
   "outputs": [
    {
     "name": "stdout",
     "output_type": "stream",
     "text": [
      "Collecting pytesseract\n",
      "  Downloading pytesseract-0.3.10-py3-none-any.whl (14 kB)\n",
      "Requirement already satisfied: packaging>=21.3 in d:\\projects\\python project\\.venv\\lib\\site-packages (from pytesseract) (23.2)\n",
      "Requirement already satisfied: Pillow>=8.0.0 in d:\\projects\\python project\\.venv\\lib\\site-packages (from pytesseract) (10.1.0)\n",
      "Installing collected packages: pytesseract\n",
      "Successfully installed pytesseract-0.3.10\n",
      "Note: you may need to restart the kernel to use updated packages.\n"
     ]
    }
   ],
   "source": [
    "%pip install pytesseract"
   ]
  },
  {
   "cell_type": "code",
   "execution_count": 1,
   "metadata": {},
   "outputs": [
    {
     "name": "stderr",
     "output_type": "stream",
     "text": [
      "[nltk_data] Downloading package words to\n",
      "[nltk_data]     C:\\Users\\athar\\AppData\\Roaming\\nltk_data...\n",
      "[nltk_data]   Package words is already up-to-date!\n"
     ]
    },
    {
     "name": "stdout",
     "output_type": "stream",
     "text": [
      "Processing: ../data/imgs/Test_Capture_1.jpg\n",
      "Test_Capture_1.jpg PSM Mode 3 Output:\n",
      "Test_Capture_1.jpg PSM Mode 6 Output:\n",
      "Test_Capture_1.jpg PSM Mode 7 Output:\n",
      "Test_Capture_1.jpg PSM Mode 9 Output:\n",
      "Processing: ../data/imgs/Test_Capture_2.jpg\n",
      "Test_Capture_2.jpg PSM Mode 3 Output:\n",
      "Test_Capture_2.jpg PSM Mode 6 Output:\n",
      "Test_Capture_2.jpg PSM Mode 7 Output:\n",
      "Test_Capture_2.jpg PSM Mode 9 Output:\n",
      "Processing: ../data/imgs/Test_Capture_3.jpg\n",
      "Test_Capture_3.jpg PSM Mode 3 Output:\n",
      "Test_Capture_3.jpg PSM Mode 6 Output:\n",
      "Test_Capture_3.jpg PSM Mode 7 Output:\n",
      "Test_Capture_3.jpg PSM Mode 9 Output:\n",
      "Processing: ../data/imgs/Test_Capture_4.jpg\n",
      "Test_Capture_4.jpg PSM Mode 3 Output:\n",
      "Test_Capture_4.jpg PSM Mode 6 Output:\n",
      "Test_Capture_4.jpg PSM Mode 7 Output:\n",
      "Test_Capture_4.jpg PSM Mode 9 Output:\n",
      "Processing: ../data/imgs/Test_Capture_5.jpg\n",
      "Test_Capture_5.jpg PSM Mode 3 Output:\n",
      "Test_Capture_5.jpg PSM Mode 6 Output:\n",
      "Test_Capture_5.jpg PSM Mode 7 Output:\n",
      "Test_Capture_5.jpg PSM Mode 9 Output:\n",
      "Processing: ../data/imgs/Test_Capture_6.jpg\n",
      "Test_Capture_6.jpg PSM Mode 3 Output:\n",
      "Test_Capture_6.jpg PSM Mode 6 Output:\n",
      "Test_Capture_6.jpg PSM Mode 7 Output:\n",
      "Test_Capture_6.jpg PSM Mode 9 Output:\n"
     ]
    }
   ],
   "source": [
    "import pytesseract\n",
    "from PIL import Image, ImageEnhance, ImageFilter\n",
    "import os\n",
    "import nltk\n",
    "import json\n",
    "from nltk.corpus import words\n",
    "import matplotlib.pyplot as plt\n",
    "\n",
    "nltk.download('words')\n",
    "\n",
    "def filter_text(text):\n",
    "    # print(text)\n",
    "    # all_letters = set(string.ascii_letters)\n",
    "    # text_letters = set(filter(str.isalpha, text))\n",
    "    cleaned_text = text.replace('\\n', '').replace('\\f', '')\n",
    "    return cleaned_text\n",
    "\n",
    "def preprocess_image(image):\n",
    "    # Apply sharpen and smooth filters\n",
    "    image = image.filter(ImageFilter.SHARPEN)\n",
    "    image = image.filter(ImageFilter.SMOOTH_MORE)\n",
    "\n",
    "    # Increase DPI (dots per inch)\n",
    "    image.info['dpi'] = (800, 800)\n",
    "\n",
    "    return image\n",
    "\n",
    "def enhance_contrast(image, factor):\n",
    "    enhancer = ImageEnhance.Contrast(image)\n",
    "    enhanced_image = enhancer.enhance(factor)\n",
    "    return enhanced_image\n",
    "\n",
    "def process_and_detect_word_art(image_path, sentences_set,labels_list, contrast_factor=10.0):\n",
    "    # Open the image using Pillow\n",
    "    image = Image.open(image_path)\n",
    "\n",
    "    # Preprocess the image\n",
    "    image = preprocess_image(image)\n",
    "\n",
    "    # Enhance contrast\n",
    "    image = enhance_contrast(image, contrast_factor)\n",
    "\n",
    "    PSM_MODES:list = [3, 6, 7, 9]\n",
    "    for psm in PSM_MODES:\n",
    "        custom_config = f\"--oem 3 --psm {psm}\"\n",
    "        text = pytesseract.image_to_string(image, config=custom_config)\n",
    "        print(f\"{image_path.split('/')[-1]} PSM Mode {psm} Output:\")\n",
    "\n",
    "        # ! Debugging: Display the image\n",
    "        plt.imshow(image)\n",
    "        plt.title(f\"PSM Mode {psm} Output\")\n",
    "        print(text)\n",
    "        plt.show()\n",
    "\n",
    "        if filter_text(text):\n",
    "            sentences_set.add(text)\n",
    "            labels.append(psm)\n",
    "\n",
    "# Define the directory containing your image files\n",
    "DIR = '../data/imgs/'  # Update with the path to your DIR\n",
    "\n",
    "# List all image files in the DIR\n",
    "image_files = [file for file in os.listdir(DIR) if file.endswith(('.jpg', '.jpeg', '.png', '.bmp'))]\n",
    "\n",
    "sentences_set = set()  # Set to store unique sentences\n",
    "labels = list()  # Set to store unique sentences\n",
    "\n",
    "# Process and detect word art for each image\n",
    "for image_file in image_files:\n",
    "    image_path = os.path.join(DIR, image_file)\n",
    "    print(f\"Processing: {image_path}\")\n",
    "    process_and_detect_word_art(image_path, sentences_set,labels)\n",
    "\n",
    "# Write unique sentences to a single JSON file\n",
    "output_json_filename = '../data/json/unique_sentences.json'\n",
    "with open(output_json_filename, 'w') as json_file:\n",
    "    cleaned_set = [s.replace('\\n', '').replace('\\f', '') for s in sentences_set]\n",
    "    json.dump({\"text\": list(cleaned_set),\"lables\":labels}, json_file, indent=3)\n"
   ]
  },
  {
   "cell_type": "markdown",
   "metadata": {},
   "source": [
    "# The Model Idea Copy Pasta"
   ]
  },
  {
   "cell_type": "code",
   "execution_count": 51,
   "metadata": {},
   "outputs": [
    {
     "name": "stdout",
     "output_type": "stream",
     "text": [
      "Model: \"sequential_1\"\n",
      "_________________________________________________________________\n",
      " Layer (type)                Output Shape              Param #   \n",
      "=================================================================\n",
      " embedding_1 (Embedding)     (None, 100, 100)          1000000   \n",
      "                                                                 \n",
      " lstm_1 (LSTM)               (None, 100, 64)           42240     \n",
      "                                                                 \n",
      " dropout_1 (Dropout)         (None, 100, 64)           0         \n",
      "                                                                 \n",
      " dense_1 (Dense)             (None, 100, 4)            260       \n",
      "                                                                 \n",
      "=================================================================\n",
      "Total params: 1042500 (3.98 MB)\n",
      "Trainable params: 1042500 (3.98 MB)\n",
      "Non-trainable params: 0 (0.00 Byte)\n",
      "_________________________________________________________________\n"
     ]
    },
    {
     "name": "stderr",
     "output_type": "stream",
     "text": [
      "c:\\Users\\athar\\AppData\\Local\\Programs\\Python\\Python310\\lib\\site-packages\\keras\\src\\engine\\training.py:3000: UserWarning: You are saving your model as an HDF5 file via `model.save()`. This file format is considered legacy. We recommend using instead the native Keras format, e.g. `model.save('my_model.keras')`.\n",
      "  saving_api.save_model(\n"
     ]
    },
    {
     "name": "stdout",
     "output_type": "stream",
     "text": [
      "1/1 [==============================] - 1s 680ms/step\n"
     ]
    }
   ],
   "source": [
    "from keras.models import Sequential, load_model\n",
    "from keras.layers import Embedding, LSTM, Dense, Dropout\n",
    "from keras.preprocessing.text import Tokenizer\n",
    "from keras.preprocessing.sequence import pad_sequences\n",
    "import joblib\n",
    "import json\n",
    "from sklearn.model_selection import train_test_split\n",
    "\n",
    "# Step 1: Load your textual data from a JSON file\n",
    "json_filename = '../data/json/unique_sentences.json'\n",
    "with open(json_filename, 'r') as json_file:\n",
    "    data = json.load(json_file)\n",
    "\n",
    "# Extract the advertisement texts from the JSON data\n",
    "text_data = data['texts']\n",
    "\n",
    "\n",
    "# Define sentiment labels: 0 for Not Effective, 1 for Somewhat Effective, 2 for Mildly Effective, 3 for Effective\n",
    "labels = data['labels']  # Replace with actual sentiment labels\n",
    "\n",
    "# Step 2: Set Parameters\n",
    "max_words = 10000  # Maximum number of words in your vocabulary\n",
    "max_sequence_length = 100  # Maximum length of input sequences\n",
    "embedding_dim = 100  # Dimension of word embeddings\n",
    "lstm_units = 64  # Number of LSTM units\n",
    "dropout_rate = 0.2  # Dropout rate\n",
    "num_classes = 4  # Number of sentiment classes\n",
    "\n",
    "# Step 3: Text Tokenization and Padding\n",
    "tokenizer = Tokenizer(num_words=max_words)\n",
    "tokenizer.fit_on_texts(text_data)\n",
    "sequences = tokenizer.texts_to_sequences(text_data)\n",
    "X = pad_sequences(sequences, maxlen=max_sequence_length)\n",
    "\n",
    "# Step 4: Split Data\n",
    "X_train, X_test, y_train, y_test = train_test_split(X, labels, test_size=0.3, random_state=42)\n",
    "\n",
    "# Step 5: Define the LSTM Model\n",
    "model = Sequential()\n",
    "\n",
    "model.add(Embedding(input_dim=max_words, output_dim=embedding_dim, input_length=max_sequence_length))\n",
    "model.add(LSTM(units=lstm_units, return_sequences=True))\n",
    "model.add(Dropout(dropout_rate))\n",
    "model.add(Dense(num_classes, activation='softmax'))\n",
    "\n",
    "# Compile the model\n",
    "model.compile(loss='sparse_categorical_crossentropy', optimizer='adam', metrics=['accuracy'])\n",
    "\n",
    "# Print a summary of the model's architecture\n",
    "model.summary()\n",
    "\n",
    "# Train the model with your data\n",
    "# model.fit(X_train, y_train, epochs=YOUR_NUM_EPOCHS, validation_data=(X_test, y_test))\n",
    "\n",
    "# Save the model as .h5 file\n",
    "model.save(\"lstm_ad_sentiment_model.h5\")\n",
    "\n",
    "# Save the tokenizer as a .pkl file\n",
    "joblib.dump(tokenizer, \"tokenizer.pkl\")\n",
    "\n",
    "# Load the model and tokenizer for making predictions\n",
    "loaded_model = load_model(\"lstm_ad_sentiment_model.h5\")\n",
    "loaded_tokenizer = joblib.load(\"tokenizer.pkl\")\n",
    "\n",
    "# Prepare new text for prediction\n",
    "new_text = \"A new advertisement text for analysis.\"\n",
    "\n",
    "# Tokenize and pad the new text\n",
    "new_text_sequence = loaded_tokenizer.texts_to_sequences([new_text])\n",
    "new_text_padded = pad_sequences(new_text_sequence, maxlen=max_sequence_length)\n",
    "\n",
    "# Make predictions\n",
    "predictions = loaded_model.predict(new_text_padded)\n",
    "\n",
    "# Interpret the predictions based on your sentiment class labels\n",
    "# You can access predictions[0][0] to predictions[0][3] for the corresponding classes (0 to 3).\n"
   ]
  },
  {
   "cell_type": "markdown",
   "metadata": {},
   "source": [
    "# Data Collection 1"
   ]
  },
  {
   "cell_type": "markdown",
   "metadata": {},
   "source": [
    "### Dependencies"
   ]
  },
  {
   "cell_type": "code",
   "execution_count": 2,
   "metadata": {},
   "outputs": [
    {
     "name": "stdout",
     "output_type": "stream",
     "text": [
      "Requirement already satisfied: faker in c:\\users\\athar\\appdata\\local\\programs\\python\\python310\\lib\\site-packages (19.13.0)\n",
      "Requirement already satisfied: python-dateutil>=2.4 in c:\\users\\athar\\appdata\\local\\programs\\python\\python310\\lib\\site-packages (from faker) (2.8.2)\n",
      "Requirement already satisfied: six>=1.5 in c:\\users\\athar\\appdata\\local\\programs\\python\\python310\\lib\\site-packages (from python-dateutil>=2.4->faker) (1.16.0)\n",
      "Note: you may need to restart the kernel to use updated packages.\n"
     ]
    },
    {
     "name": "stderr",
     "output_type": "stream",
     "text": [
      "\n",
      "[notice] A new release of pip available: 22.3.1 -> 23.3.1\n",
      "[notice] To update, run: python.exe -m pip install --upgrade pip\n"
     ]
    },
    {
     "name": "stdout",
     "output_type": "stream",
     "text": [
      "Requirement already satisfied: pandas in c:\\users\\athar\\appdata\\local\\programs\\python\\python310\\lib\\site-packages (2.1.2)Note: you may need to restart the kernel to use updated packages.\n",
      "\n",
      "Requirement already satisfied: tzdata>=2022.1 in c:\\users\\athar\\appdata\\local\\programs\\python\\python310\\lib\\site-packages (from pandas) (2022.1)\n",
      "Requirement already satisfied: numpy<2,>=1.22.4 in c:\\users\\athar\\appdata\\local\\programs\\python\\python310\\lib\\site-packages (from pandas) (1.24.2)"
     ]
    },
    {
     "name": "stderr",
     "output_type": "stream",
     "text": [
      "\n",
      "[notice] A new release of pip available: 22.3.1 -> 23.3.1\n",
      "[notice] To update, run: python.exe -m pip install --upgrade pip\n"
     ]
    },
    {
     "name": "stdout",
     "output_type": "stream",
     "text": [
      "\n",
      "Requirement already satisfied: python-dateutil>=2.8.2 in c:\\users\\athar\\appdata\\local\\programs\\python\\python310\\lib\\site-packages (from pandas) (2.8.2)\n",
      "Requirement already satisfied: pytz>=2020.1 in c:\\users\\athar\\appdata\\local\\programs\\python\\python310\\lib\\site-packages (from pandas) (2021.3)\n",
      "Requirement already satisfied: six>=1.5 in c:\\users\\athar\\appdata\\local\\programs\\python\\python310\\lib\\site-packages (from python-dateutil>=2.8.2->pandas) (1.16.0)\n"
     ]
    }
   ],
   "source": [
    "%pip install faker\n",
    "%pip install pandas"
   ]
  },
  {
   "cell_type": "code",
   "execution_count": 151,
   "metadata": {},
   "outputs": [],
   "source": [
    "import pandas as pd\n",
    "import random\n",
    "from datetime import datetime, timedelta\n",
    "from faker import Faker\n",
    "\n",
    "# Create an empty DataFrame\n",
    "data = pd.DataFrame(columns=['number', 'advertisement_text', 'time', 'review', 'sentiment'])\n",
    "\n",
    "# Define the possible sentiments\n",
    "sentiments = ['positive', 'negative','mixed','neutral']\n",
    "\n",
    "# Start with number 5 (assuming you already have rows with numbers 1 to 4)\n",
    "current_number = 1\n",
    "\n",
    "# Create a Faker object for generating random text\n",
    "fake = Faker()\n",
    "\n",
    "# Generate 50 more rows of data\n",
    "for _ in range(500):\n",
    "    # Generate random data\n",
    "    advertisement_text = fake.sentence()\n",
    "    time = (datetime(2023, 11, 5, 10, 30, 0) + timedelta(minutes=current_number * 15)).strftime('%Y-%m-%d %H:%M:%S')\n",
    "    review = random.choice(sentiments)\n",
    "    review_text = fake.paragraph(nb_sentences=random.randint(1, 4))\n",
    "    data.loc[len(data)] = [current_number, advertisement_text, time, review_text, review]\n",
    "    \n",
    "    current_number += 1\n",
    "\n",
    "# Save the generated data to a CSV file\n",
    "data.to_csv('../data/dataset/sample_data.csv', index=False)\n"
   ]
  },
  {
   "cell_type": "markdown",
   "metadata": {},
   "source": [
    "# The Real Model Thought"
   ]
  },
  {
   "cell_type": "markdown",
   "metadata": {},
   "source": [
    "### Dependencies\n"
   ]
  },
  {
   "cell_type": "code",
   "execution_count": 57,
   "metadata": {},
   "outputs": [
    {
     "name": "stdout",
     "output_type": "stream",
     "text": [
      "Requirement already satisfied: tensorflow in c:\\users\\athar\\appdata\\local\\programs\\python\\python310\\lib\\site-packages (2.13.0)\n",
      "Requirement already satisfied: tensorflow-intel==2.13.0 in c:\\users\\athar\\appdata\\local\\programs\\python\\python310\\lib\\site-packages (from tensorflow) (2.13.0)\n",
      "Requirement already satisfied: six>=1.12.0 in c:\\users\\athar\\appdata\\local\\programs\\python\\python310\\lib\\site-packages (from tensorflow-intel==2.13.0->tensorflow) (1.16.0)\n",
      "Requirement already satisfied: wrapt>=1.11.0 in c:\\users\\athar\\appdata\\local\\programs\\python\\python310\\lib\\site-packages (from tensorflow-intel==2.13.0->tensorflow) (1.15.0)\n",
      "Requirement already satisfied: astunparse>=1.6.0 in c:\\users\\athar\\appdata\\local\\programs\\python\\python310\\lib\\site-packages (from tensorflow-intel==2.13.0->tensorflow) (1.6.3)\n",
      "Requirement already satisfied: setuptools in c:\\users\\athar\\appdata\\local\\programs\\python\\python310\\lib\\site-packages (from tensorflow-intel==2.13.0->tensorflow) (65.5.0)\n",
      "Requirement already satisfied: termcolor>=1.1.0 in c:\\users\\athar\\appdata\\local\\programs\\python\\python310\\lib\\site-packages (from tensorflow-intel==2.13.0->tensorflow) (2.3.0)\n",
      "Requirement already satisfied: flatbuffers>=23.1.21 in c:\\users\\athar\\appdata\\local\\programs\\python\\python310\\lib\\site-packages (from tensorflow-intel==2.13.0->tensorflow) (23.3.3)\n",
      "Requirement already satisfied: libclang>=13.0.0 in c:\\users\\athar\\appdata\\local\\programs\\python\\python310\\lib\\site-packages (from tensorflow-intel==2.13.0->tensorflow) (16.0.6)\n",
      "Requirement already satisfied: absl-py>=1.0.0 in c:\\users\\athar\\appdata\\local\\programs\\python\\python310\\lib\\site-packages (from tensorflow-intel==2.13.0->tensorflow) (1.4.0)\n",
      "Requirement already satisfied: packaging in c:\\users\\athar\\appdata\\local\\programs\\python\\python310\\lib\\site-packages (from tensorflow-intel==2.13.0->tensorflow) (21.3)\n",
      "Requirement already satisfied: numpy<=1.24.3,>=1.22 in c:\\users\\athar\\appdata\\local\\programs\\python\\python310\\lib\\site-packages (from tensorflow-intel==2.13.0->tensorflow) (1.24.2)\n",
      "Requirement already satisfied: tensorflow-io-gcs-filesystem>=0.23.1 in c:\\users\\athar\\appdata\\local\\programs\\python\\python310\\lib\\site-packages (from tensorflow-intel==2.13.0->tensorflow) (0.31.0)\n",
      "Requirement already satisfied: keras<2.14,>=2.13.1 in c:\\users\\athar\\appdata\\local\\programs\\python\\python310\\lib\\site-packages (from tensorflow-intel==2.13.0->tensorflow) (2.13.1)\n",
      "Requirement already satisfied: gast<=0.4.0,>=0.2.1 in c:\\users\\athar\\appdata\\local\\programs\\python\\python310\\lib\\site-packages (from tensorflow-intel==2.13.0->tensorflow) (0.4.0)\n",
      "Requirement already satisfied: opt-einsum>=2.3.2 in c:\\users\\athar\\appdata\\local\\programs\\python\\python310\\lib\\site-packages (from tensorflow-intel==2.13.0->tensorflow) (3.3.0)\n",
      "Requirement already satisfied: protobuf!=4.21.0,!=4.21.1,!=4.21.2,!=4.21.3,!=4.21.4,!=4.21.5,<5.0.0dev,>=3.20.3 in c:\\users\\athar\\appdata\\local\\programs\\python\\python310\\lib\\site-packages (from tensorflow-intel==2.13.0->tensorflow) (3.20.3)\n",
      "Requirement already satisfied: h5py>=2.9.0 in c:\\users\\athar\\appdata\\local\\programs\\python\\python310\\lib\\site-packages (from tensorflow-intel==2.13.0->tensorflow) (3.9.0)\n",
      "Requirement already satisfied: grpcio<2.0,>=1.24.3 in c:\\users\\athar\\appdata\\local\\programs\\python\\python310\\lib\\site-packages (from tensorflow-intel==2.13.0->tensorflow) (1.57.0)\n",
      "Requirement already satisfied: google-pasta>=0.1.1 in c:\\users\\athar\\appdata\\local\\programs\\python\\python310\\lib\\site-packages (from tensorflow-intel==2.13.0->tensorflow) (0.2.0)\n",
      "Requirement already satisfied: tensorboard<2.14,>=2.13 in c:\\users\\athar\\appdata\\local\\programs\\python\\python310\\lib\\site-packages (from tensorflow-intel==2.13.0->tensorflow) (2.13.0)\n",
      "Requirement already satisfied: tensorflow-estimator<2.14,>=2.13.0 in c:\\users\\athar\\appdata\\local\\programs\\python\\python310\\lib\\site-packages (from tensorflow-intel==2.13.0->tensorflow) (2.13.0)\n",
      "Requirement already satisfied: typing-extensions<4.6.0,>=3.6.6 in c:\\users\\athar\\appdata\\local\\programs\\python\\python310\\lib\\site-packages (from tensorflow-intel==2.13.0->tensorflow) (4.5.0)\n",
      "Requirement already satisfied: wheel<1.0,>=0.23.0 in c:\\users\\athar\\appdata\\local\\programs\\python\\python310\\lib\\site-packages (from astunparse>=1.6.0->tensorflow-intel==2.13.0->tensorflow) (0.41.1)\n",
      "Requirement already satisfied: requests<3,>=2.21.0 in c:\\users\\athar\\appdata\\local\\programs\\python\\python310\\lib\\site-packages (from tensorboard<2.14,>=2.13->tensorflow-intel==2.13.0->tensorflow) (2.29.0)\n",
      "Requirement already satisfied: markdown>=2.6.8 in c:\\users\\athar\\appdata\\local\\programs\\python\\python310\\lib\\site-packages (from tensorboard<2.14,>=2.13->tensorflow-intel==2.13.0->tensorflow) (3.4.4)\n",
      "Requirement already satisfied: werkzeug>=1.0.1 in c:\\users\\athar\\appdata\\local\\programs\\python\\python310\\lib\\site-packages (from tensorboard<2.14,>=2.13->tensorflow-intel==2.13.0->tensorflow) (2.2.3)\n",
      "Requirement already satisfied: tensorboard-data-server<0.8.0,>=0.7.0 in c:\\users\\athar\\appdata\\local\\programs\\python\\python310\\lib\\site-packages (from tensorboard<2.14,>=2.13->tensorflow-intel==2.13.0->tensorflow) (0.7.1)\n",
      "Requirement already satisfied: google-auth-oauthlib<1.1,>=0.5 in c:\\users\\athar\\appdata\\local\\programs\\python\\python310\\lib\\site-packages (from tensorboard<2.14,>=2.13->tensorflow-intel==2.13.0->tensorflow) (1.0.0)\n",
      "Requirement already satisfied: google-auth<3,>=1.6.3 in c:\\users\\athar\\appdata\\local\\programs\\python\\python310\\lib\\site-packages (from tensorboard<2.14,>=2.13->tensorflow-intel==2.13.0->tensorflow) (2.22.0)\n",
      "Requirement already satisfied: pyparsing!=3.0.5,>=2.0.2 in c:\\users\\athar\\appdata\\local\\programs\\python\\python310\\lib\\site-packages (from packaging->tensorflow-intel==2.13.0->tensorflow) (3.0.7)\n",
      "Requirement already satisfied: rsa<5,>=3.1.4 in c:\\users\\athar\\appdata\\local\\programs\\python\\python310\\lib\\site-packages (from google-auth<3,>=1.6.3->tensorboard<2.14,>=2.13->tensorflow-intel==2.13.0->tensorflow) (4.9)\n",
      "Requirement already satisfied: cachetools<6.0,>=2.0.0 in c:\\users\\athar\\appdata\\local\\programs\\python\\python310\\lib\\site-packages (from google-auth<3,>=1.6.3->tensorboard<2.14,>=2.13->tensorflow-intel==2.13.0->tensorflow) (5.3.1)\n",
      "Requirement already satisfied: urllib3<2.0 in c:\\users\\athar\\appdata\\local\\programs\\python\\python310\\lib\\site-packages (from google-auth<3,>=1.6.3->tensorboard<2.14,>=2.13->tensorflow-intel==2.13.0->tensorflow) (1.26.16)\n",
      "Requirement already satisfied: pyasn1-modules>=0.2.1 in c:\\users\\athar\\appdata\\local\\programs\\python\\python310\\lib\\site-packages (from google-auth<3,>=1.6.3->tensorboard<2.14,>=2.13->tensorflow-intel==2.13.0->tensorflow) (0.3.0)\n",
      "Requirement already satisfied: requests-oauthlib>=0.7.0 in c:\\users\\athar\\appdata\\local\\programs\\python\\python310\\lib\\site-packages (from google-auth-oauthlib<1.1,>=0.5->tensorboard<2.14,>=2.13->tensorflow-intel==2.13.0->tensorflow) (1.3.1)\n",
      "Requirement already satisfied: charset-normalizer<4,>=2 in c:\\users\\athar\\appdata\\local\\programs\\python\\python310\\lib\\site-packages (from requests<3,>=2.21.0->tensorboard<2.14,>=2.13->tensorflow-intel==2.13.0->tensorflow) (2.0.11)\n",
      "Requirement already satisfied: certifi>=2017.4.17 in c:\\users\\athar\\appdata\\local\\programs\\python\\python310\\lib\\site-packages (from requests<3,>=2.21.0->tensorboard<2.14,>=2.13->tensorflow-intel==2.13.0->tensorflow) (2021.10.8)\n",
      "Requirement already satisfied: idna<4,>=2.5 in c:\\users\\athar\\appdata\\local\\programs\\python\\python310\\lib\\site-packages (from requests<3,>=2.21.0->tensorboard<2.14,>=2.13->tensorflow-intel==2.13.0->tensorflow) (3.3)\n",
      "Requirement already satisfied: MarkupSafe>=2.1.1 in c:\\users\\athar\\appdata\\local\\programs\\python\\python310\\lib\\site-packages (from werkzeug>=1.0.1->tensorboard<2.14,>=2.13->tensorflow-intel==2.13.0->tensorflow) (2.1.2)\n",
      "Requirement already satisfied: pyasn1<0.6.0,>=0.4.6 in c:\\users\\athar\\appdata\\local\\programs\\python\\python310\\lib\\site-packages (from pyasn1-modules>=0.2.1->google-auth<3,>=1.6.3->tensorboard<2.14,>=2.13->tensorflow-intel==2.13.0->tensorflow) (0.5.0)\n",
      "Requirement already satisfied: oauthlib>=3.0.0 in c:\\users\\athar\\appdata\\local\\programs\\python\\python310\\lib\\site-packages (from requests-oauthlib>=0.7.0->google-auth-oauthlib<1.1,>=0.5->tensorboard<2.14,>=2.13->tensorflow-intel==2.13.0->tensorflow) (3.2.2)\n",
      "Note: you may need to restart the kernel to use updated packages.\n"
     ]
    },
    {
     "name": "stderr",
     "output_type": "stream",
     "text": [
      "\n",
      "[notice] A new release of pip available: 22.3.1 -> 23.3.1\n",
      "[notice] To update, run: python.exe -m pip install --upgrade pip\n"
     ]
    }
   ],
   "source": [
    "%pip install tensorflow\n",
    "%pip install numpy\n",
    "%pip install matplotlib"
   ]
  },
  {
   "cell_type": "code",
   "execution_count": 190,
   "metadata": {},
   "outputs": [
    {
     "name": "stdout",
     "output_type": "stream",
     "text": [
      "Epoch 1/20\n",
      "1/1 [==============================] - 1s 1s/step - loss: 1.4639 - accuracy: 0.2321 - val_loss: 1.3815 - val_accuracy: 0.2667\n",
      "Epoch 2/20\n",
      "1/1 [==============================] - 0s 101ms/step - loss: 0.9917 - accuracy: 0.6964 - val_loss: 1.3756 - val_accuracy: 0.4000\n",
      "Epoch 3/20\n",
      "1/1 [==============================] - 0s 156ms/step - loss: 0.7980 - accuracy: 0.7679 - val_loss: 1.3714 - val_accuracy: 0.4667\n",
      "Epoch 4/20\n",
      "1/1 [==============================] - 0s 117ms/step - loss: 0.5640 - accuracy: 0.9286 - val_loss: 1.3678 - val_accuracy: 0.4667\n",
      "Epoch 5/20\n",
      "1/1 [==============================] - 0s 122ms/step - loss: 0.4134 - accuracy: 0.9286 - val_loss: 1.3651 - val_accuracy: 0.4667\n",
      "Epoch 6/20\n",
      "1/1 [==============================] - 0s 107ms/step - loss: 0.3037 - accuracy: 0.9464 - val_loss: 1.3619 - val_accuracy: 0.4667\n",
      "Epoch 7/20\n",
      "1/1 [==============================] - 0s 141ms/step - loss: 0.1818 - accuracy: 1.0000 - val_loss: 1.3580 - val_accuracy: 0.4667\n",
      "Epoch 8/20\n",
      "1/1 [==============================] - 0s 115ms/step - loss: 0.1363 - accuracy: 0.9821 - val_loss: 1.3527 - val_accuracy: 0.4667\n",
      "Epoch 9/20\n",
      "1/1 [==============================] - 0s 112ms/step - loss: 0.1097 - accuracy: 0.9821 - val_loss: 1.3461 - val_accuracy: 0.4667\n",
      "Epoch 10/20\n",
      "1/1 [==============================] - 0s 132ms/step - loss: 0.0614 - accuracy: 1.0000 - val_loss: 1.3395 - val_accuracy: 0.5333\n",
      "Epoch 11/20\n",
      "1/1 [==============================] - 0s 109ms/step - loss: 0.0510 - accuracy: 1.0000 - val_loss: 1.3332 - val_accuracy: 0.5333\n",
      "Epoch 12/20\n",
      "1/1 [==============================] - 0s 103ms/step - loss: 0.0286 - accuracy: 1.0000 - val_loss: 1.3278 - val_accuracy: 0.5333\n",
      "Epoch 13/20\n",
      "1/1 [==============================] - 0s 103ms/step - loss: 0.0240 - accuracy: 1.0000 - val_loss: 1.3229 - val_accuracy: 0.5333\n",
      "Epoch 14/20\n",
      "1/1 [==============================] - 0s 118ms/step - loss: 0.0177 - accuracy: 1.0000 - val_loss: 1.3187 - val_accuracy: 0.5333\n",
      "Epoch 15/20\n",
      "1/1 [==============================] - 0s 109ms/step - loss: 0.0113 - accuracy: 1.0000 - val_loss: 1.3149 - val_accuracy: 0.6000\n",
      "Epoch 16/20\n",
      "1/1 [==============================] - 0s 119ms/step - loss: 0.0076 - accuracy: 1.0000 - val_loss: 1.3115 - val_accuracy: 0.6000\n",
      "Epoch 17/20\n",
      "1/1 [==============================] - 0s 113ms/step - loss: 0.0068 - accuracy: 1.0000 - val_loss: 1.3086 - val_accuracy: 0.6000\n",
      "Epoch 18/20\n",
      "1/1 [==============================] - 0s 114ms/step - loss: 0.0044 - accuracy: 1.0000 - val_loss: 1.3060 - val_accuracy: 0.5333\n",
      "Epoch 19/20\n",
      "1/1 [==============================] - 0s 107ms/step - loss: 0.0054 - accuracy: 1.0000 - val_loss: 1.3034 - val_accuracy: 0.6000\n",
      "Epoch 20/20\n",
      "1/1 [==============================] - 0s 101ms/step - loss: 0.0040 - accuracy: 1.0000 - val_loss: 1.3008 - val_accuracy: 0.6000\n",
      "1/1 [==============================] - 0s 34ms/step - loss: 1.3008 - accuracy: 0.6000\n",
      "Test loss: 1.3008348941802979, Test accuracy: 0.6000000238418579\n"
     ]
    },
    {
     "data": {
      "image/png": "[encoded data removed]",
      "text/plain": [
       "<Figure size 432x288 with 1 Axes>"
      ]
     },
     "metadata": {
      "needs_background": "light"
     },
     "output_type": "display_data"
    },
    {
     "name": "stdout",
     "output_type": "stream",
     "text": [
      "Model: \"sequential_37\"\n",
      "_________________________________________________________________\n",
      " Layer (type)                Output Shape              Param #   \n",
      "=================================================================\n",
      " embedding_37 (Embedding)    (None, 100, 128)          21504     \n",
      "                                                                 \n",
      " conv1d_37 (Conv1D)          (None, 96, 256)           164096    \n",
      "                                                                 \n",
      " global_max_pooling1d_37 (G  (None, 256)               0         \n",
      " lobalMaxPooling1D)                                              \n",
      "                                                                 \n",
      " dense_61 (Dense)            (None, 512)               131584    \n",
      "                                                                 \n",
      " batch_normalization_1 (Bat  (None, 512)               2048      \n",
      " chNormalization)                                                \n",
      "                                                                 \n",
      " dropout_24 (Dropout)        (None, 512)               0         \n",
      "                                                                 \n",
      " dense_62 (Dense)            (None, 4)                 2052      \n",
      "                                                                 \n",
      "=================================================================\n",
      "Total params: 321284 (1.23 MB)\n",
      "Trainable params: 320260 (1.22 MB)\n",
      "Non-trainable params: 1024 (4.00 KB)\n",
      "_________________________________________________________________\n"
     ]
    }
   ],
   "source": [
    "import pandas as pd\n",
    "import numpy as np\n",
    "import tensorflow as tf\n",
    "from tensorflow.keras.preprocessing.text import Tokenizer\n",
    "from tensorflow.keras.preprocessing.sequence import pad_sequences\n",
    "from tensorflow.keras.models import Sequential\n",
    "from tensorflow.keras.layers import Embedding, Conv1D, GlobalMaxPooling1D, Dense, Dropout, BatchNormalization\n",
    "from sklearn.model_selection import train_test_split\n",
    "from sklearn.preprocessing import LabelEncoder\n",
    "from tensorflow.keras.utils import to_categorical\n",
    "import matplotlib.pyplot as plt\n",
    "\n",
    "# Load your dataset from a CSV file (adjust the file path accordingly)\n",
    "data = pd.read_csv('../data/dataset/sample_data.csv')\n",
    "\n",
    "# Assuming the 'review' column contains text data and the 'sentiment' column contains sentiment labels\n",
    "texts = data['advertisement_text'].values\n",
    "sentiments = data['sentiment'].values\n",
    "\n",
    "# Encode the sentiment labels\n",
    "label_encoder = LabelEncoder()\n",
    "sentiments_encoded = label_encoder.fit_transform(sentiments)\n",
    "\n",
    "# Tokenize the text data\n",
    "tokenizer = Tokenizer()\n",
    "tokenizer.fit_on_texts(texts)\n",
    "vocab_size = len(tokenizer.word_index) + 1\n",
    "sequences = tokenizer.texts_to_sequences(texts)\n",
    "\n",
    "# Pad the sequences to have the same length\n",
    "max_sequence_length = 100  # Adjust as needed\n",
    "X = pad_sequences(sequences, maxlen=max_sequence_length)\n",
    "\n",
    "# Convert sentiments_encoded to one-hot encoding for multi-class classification\n",
    "y = to_categorical(sentiments_encoded, num_classes=4)\n",
    "\n",
    "# Split the data into training and testing sets\n",
    "X_train, X_test, y_train, y_test = train_test_split(X, y, test_size=0.2, random_state=42)\n",
    "\n",
    "# Create a CNN model with more layers for higher precision\n",
    "model = Sequential()\n",
    "model.add(Embedding(input_dim=vocab_size, output_dim=128, input_length=max_sequence_length))\n",
    "model.add(Conv1D(256, 5, activation='relu'))\n",
    "model.add(GlobalMaxPooling1D())\n",
    "model.add(Dense(512, activation='relu'))\n",
    "model.add(BatchNormalization())\n",
    "model.add(Dropout(0.5))  # Dropout for regularization\n",
    "model.add(Dense(4, activation='softmax'))  # Four output units for the four sentiment categories\n",
    "\n",
    "# Compile the model\n",
    "model.compile(loss='categorical_crossentropy', optimizer='adam', metrics=['accuracy'])\n",
    "\n",
    "# Initialize lists to store training history\n",
    "history = model.fit(X_train, y_train, epochs=20, batch_size=64, validation_data=(X_test, y_test))\n",
    "\n",
    "# Evaluate the model\n",
    "loss, accuracy = model.evaluate(X_test, y_test)\n",
    "print(f'Test loss: {loss}, Test accuracy: {accuracy}')\n",
    "\n",
    "# Plot training history\n",
    "plt.plot(history.history['accuracy'], label='accuracy')\n",
    "plt.plot(history.history['val_accuracy'], label='val_accuracy')\n",
    "plt.xlabel('Epoch')\n",
    "plt.ylabel('Accuracy')\n",
    "plt.ylim([0, 1])\n",
    "plt.legend(loc='lower right')\n",
    "plt.show()\n",
    "\n",
    "model.summary()\n"
   ]
  },
  {
   "cell_type": "markdown",
   "metadata": {},
   "source": [
    "# Save Model"
   ]
  },
  {
   "cell_type": "code",
   "execution_count": 191,
   "metadata": {},
   "outputs": [],
   "source": [
    "# Custom model name\n",
    "model_name = \"custom_sentiment_model\"\n",
    "\n",
    "# Save the model with a custom name\n",
    "model.save(f'../data/model/{model_name}.keras')"
   ]
  },
  {
   "cell_type": "markdown",
   "metadata": {},
   "source": [
    "# Summary"
   ]
  },
  {
   "cell_type": "code",
   "execution_count": 192,
   "metadata": {},
   "outputs": [
    {
     "data": {
      "image/png": "[encoded data removed]",
      "text/plain": [
       "<Figure size 864x288 with 2 Axes>"
      ]
     },
     "metadata": {
      "needs_background": "light"
     },
     "output_type": "display_data"
    }
   ],
   "source": [
    "# Extract training and validation accuracy and loss\n",
    "train_accuracy = history.history['accuracy']\n",
    "val_accuracy = history.history['val_accuracy']\n",
    "train_loss = history.history['loss']\n",
    "val_loss = history.history['val_loss']\n",
    "\n",
    "# Plot performance graphs\n",
    "epochs = range(1, len(train_accuracy) + 1)\n",
    "plt.figure(figsize=(12, 4))\n",
    "plt.subplot(1, 2, 1)\n",
    "plt.plot(epochs, train_accuracy, 'b', label='Training Accuracy')\n",
    "plt.plot(epochs, val_accuracy, 'r', label='Validation Accuracy')\n",
    "plt.title('Training and Validation Accuracy')\n",
    "plt.xlabel('Epochs')\n",
    "plt.ylabel('Accuracy')\n",
    "plt.legend()\n",
    "plt.grid()\n",
    "plt.subplot(1, 2, 2)\n",
    "plt.plot(epochs, train_loss, 'b', label='Training Loss')\n",
    "plt.plot(epochs, val_loss, 'r', label='Validation Loss')\n",
    "plt.title('Training and Validation Loss')\n",
    "plt.xlabel('Epochs')\n",
    "plt.ylabel('Loss')\n",
    "plt.legend()\n",
    "plt.grid()\n",
    "plt.tight_layout()\n",
    "plt.show()"
   ]
  },
  {
   "cell_type": "markdown",
   "metadata": {},
   "source": [
    "# Testing"
   ]
  },
  {
   "cell_type": "code",
   "execution_count": 197,
   "metadata": {},
   "outputs": [
    {
     "name": "stdout",
     "output_type": "stream",
     "text": [
      "1/1 [==============================] - 0s 100ms/step\n",
      "['Optimize your home and office']\n",
      "[[0.20257148 0.2614529  0.24090748 0.29506814]]\n",
      "Mixed Sentiment\n"
     ]
    }
   ],
   "source": [
    "# Assuming you already have the trained model and necessary pre-processing in place\n",
    "\n",
    "# Replace 'your_text_here' with the text you want to analyze\n",
    "new_text = [\"Optimize your home and office\"]\n",
    "\n",
    "# Tokenize and pad the new text\n",
    "new_sequences = tokenizer.texts_to_sequences(new_text)\n",
    "new_sequences = pad_sequences(new_sequences, maxlen=max_sequence_length)\n",
    "\n",
    "# Make predictions\n",
    "predictions = model.predict(new_sequences)\n",
    "\n",
    "# Define a list of sentiment labels corresponding to your model's output order\n",
    "sentiment_labels = ['Positive Sentiment', 'Negative Sentiment', 'Neutral Sentiment', 'Mixed Sentiment']\n",
    "\n",
    "# Find the index with the maximum prediction value\n",
    "predicted_index = np.argmax(predictions)\n",
    "\n",
    "# Print the sentiment label based on the predicted index\n",
    "print(new_text)\n",
    "print(predictions)\n",
    "print(sentiment_labels[predicted_index])\n"
   ]
  }
 ],
 "metadata": {
  "kernelspec": {
   "display_name": "Python 3",
   "language": "python",
   "name": "python3"
  },
  "language_info": {
   "codemirror_mode": {
    "name": "ipython",
    "version": 3
   },
   "file_extension": ".py",
   "mimetype": "text/x-python",
   "name": "python",
   "nbconvert_exporter": "python",
   "pygments_lexer": "ipython3",
   "version": "3.10.10"
  }
 },
 "nbformat": 4,
 "nbformat_minor": 2
}
